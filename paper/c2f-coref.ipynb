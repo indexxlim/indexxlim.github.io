{
 "cells": [
  {
   "cell_type": "markdown",
   "metadata": {},
   "source": [
    "# c2f-coref"
   ]
  },
  {
   "cell_type": "markdown",
   "metadata": {},
   "source": [
    "## Coreference Resolution\n",
    "\n",
    "Coreferece를 찾는 NLP Task 중 하나로 coreference는 문장 속에서 Entity와 같은 의미로 언급(mention)된 span을 찾는 것을 목적.\n",
    "Lee 아저씨가 만든 논문이 가장 유명하며, c2f-coref를 바탕으로 ELMO부터 Bert, Spanbert등의 언어모델을 이용하여 mention의 span을 찾는다.  \n",
    "\n",
    "[cs224n]  \n",
    "[End-to-end Neural Coreference Resolution]  \n",
    "[Higher-order Coreference Resolution]\n",
    "\n",
    "\n",
    "[cs224n]: http://web.stanford.edu/class/cs224n/slides/cs224n-2021-lecture13-coref.pdf  \n",
    "[End-to-end Neural Coreference Resolution]: https://arxiv.org/pdf/1707.07045.pdf  \n",
    "[Higher-order Coreference Resolution]: https://www.aclweb.org/anthology/N18-2108.pdf\n"
   ]
  },
  {
   "cell_type": "markdown",
   "metadata": {},
   "source": [
    "## 개요\n",
    "- Identify all mentions that refer to the same entity in the word  \n",
    "\n",
    "mention이라고 하면 지칭을 의미한다. 문장안에 있는 이 지칭을 찾고 같은 지칭을 표현하는 단어끼리 그룹화한다.(cluster) \n",
    "mention의 종류로는 Pronouns, Named entities, Noun phrases 등이 있다. 그 중  pronouns과 noun phrases는 pos 태그와 파서를 이용해서, named entities는 개채명인식을 통해 추출부터 한다.\n",
    "\n",
    "<img src=\"https://github.com/indexxlim/indexxlim.github.io/blob/main/diary.py/machine_learning/paper/images/c2f/1_mention.png?raw=true\" itemprop=\"image\" width=\"80%\">\n",
    "\n",
    "이 때 Coreference라고 함은, 2개 이상의 mentions이 같은 entity를 말하고자 하는 것을 의미한다.\n",
    "\n",
    "<img src=\"https://github.com/indexxlim/indexxlim.github.io/blob/main/diary.py/machine_learning/paper/images/c2f/2_coreference.png?raw=true\" itemprop=\"image\" width=\"80%\">"
   ]
  },
  {
   "cell_type": "markdown",
   "metadata": {},
   "source": [
    "## 방법\n",
    "- Rule-based (pronominal anaphora resolution)\n",
    "- Mention Pair\n",
    "- Mention Ranking\n",
    "- Clustering [skipping this year; see Clark and Manning (2016)]\n",
    "\n",
    "ML 방법이 많이 사용되기 전에는 규칙에 기반한 Hobbs' naive algorithm(1976)이 많이 쓰였다.  \n",
    "Mention Pair는 모든 mentions의 쌍이 coreferent인지를 binary classifier로 학습하는 것이다.\n",
    "<img src=\"https://github.com/indexxlim/indexxlim.github.io/blob/main/diary.py/machine_learning/paper/images/c2f/3_mentionpair.png?raw=true\" itemprop=\"image\" width=\"80%\">\n",
    "\n",
    "Mention Rank는 j번째 mention을 계산할 때 그 이전에 나온 mention에서 가장 확률이 높은 mention을 택한다.\n",
    "<img src=\"https://github.com/indexxlim/indexxlim.github.io/blob/main/diary.py/machine_learning/paper/images/c2f/4_mentionranking.png?raw=true\" itemprop=\"image\" width=\"80%\">\n",
    "\n",
    "Neural Network를 사용하는 최근의 sota에서는 c2f이라고 명명한 End-to-end 논문의 방법이 있다. 이 논문에서는 metion을 span의 attention sum으로 \n",
    "구한뒤(representations) 각 mention과 coreferenct인지를 다음과 같이 계산한다.\n",
    "<img src=\"https://github.com/indexxlim/indexxlim.github.io/blob/main/diary.py/machine_learning/paper/images/c2f/5_grepresentation.png?raw=true\" itemprop=\"image\" width=\"80%\">\n",
    "<img src=\"https://github.com/indexxlim/indexxlim.github.io/blob/main/diary.py/machine_learning/paper/images/c2f/6_score.png?raw=true\" itemprop=\"image\" width=\"80%\">\n",
    "\n",
    "그래서 $s(i,j)$에서의 distribution을 학습합니다\n",
    "$$P(y) = \\frac{e^{s(x,y)}}{\\sum\\limits_{y'\\in Y(x)} e^{s(x,y')}} $$\n",
    "\n",
    "\n",
    "그외의 extra features는 최근 sota인 [Revealing the Myth of Higher-Order Inference in Coreference Resolution]을 참고!\n",
    "\n",
    "[Revealing the Myth of Higher-Order Inference in Coreference Resolution]: https://arxiv.org/pdf/2009.12013.pdf\n"
   ]
  },
  {
   "cell_type": "code",
   "execution_count": null,
   "metadata": {},
   "outputs": [],
   "source": []
  }
 ],
 "metadata": {
  "kernelspec": {
   "display_name": "Python 3",
   "language": "python",
   "name": "python3"
  },
  "language_info": {
   "codemirror_mode": {
    "name": "ipython",
    "version": 3
   },
   "file_extension": ".py",
   "mimetype": "text/x-python",
   "name": "python",
   "nbconvert_exporter": "python",
   "pygments_lexer": "ipython3",
   "version": "3.8.5"
  },
  "toc": {
   "base_numbering": 1,
   "nav_menu": {},
   "number_sections": true,
   "sideBar": true,
   "skip_h1_title": false,
   "title_cell": "Table of Contents",
   "title_sidebar": "Contents",
   "toc_cell": false,
   "toc_position": {},
   "toc_section_display": true,
   "toc_window_display": false
  },
  "varInspector": {
   "cols": {
    "lenName": 16,
    "lenType": 16,
    "lenVar": 40
   },
   "kernels_config": {
    "python": {
     "delete_cmd_postfix": "",
     "delete_cmd_prefix": "del ",
     "library": "var_list.py",
     "varRefreshCmd": "print(var_dic_list())"
    },
    "r": {
     "delete_cmd_postfix": ") ",
     "delete_cmd_prefix": "rm(",
     "library": "var_list.r",
     "varRefreshCmd": "cat(var_dic_list()) "
    }
   },
   "types_to_exclude": [
    "module",
    "function",
    "builtin_function_or_method",
    "instance",
    "_Feature"
   ],
   "window_display": false
  }
 },
 "nbformat": 4,
 "nbformat_minor": 4
}
